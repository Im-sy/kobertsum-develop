{
 "cells": [
  {
   "cell_type": "markdown",
   "metadata": {
    "id": "psfnQWdcFOqC"
   },
   "source": [
    "# BertSum"
   ]
  },
  {
   "cell_type": "markdown",
   "metadata": {},
   "source": [
    "# Make datasets"
   ]
  },
  {
   "cell_type": "markdown",
   "metadata": {
    "id": "0rTc9EIbL_rM"
   },
   "source": [
    "## Import library"
   ]
  },
  {
   "cell_type": "code",
   "execution_count": 1,
   "metadata": {},
   "outputs": [
    {
     "name": "stdout",
     "output_type": "stream",
     "text": [
      "Collecting multiprocess==0.70.9\n",
      "  Downloading multiprocess-0.70.9.tar.gz (1.6 MB)\n",
      "     ---------------------------------------- 1.6/1.6 MB 24.8 MB/s eta 0:00:00\n",
      "  Preparing metadata (setup.py): started\n",
      "  Preparing metadata (setup.py): finished with status 'done'\n",
      "Requirement already satisfied: numpy in c:\\users\\isy51\\anaconda3\\lib\\site-packages (from -r ../requirements.txt (line 2)) (1.21.5)\n",
      "Requirement already satisfied: pandas in c:\\users\\isy51\\anaconda3\\lib\\site-packages (from -r ../requirements.txt (line 3)) (1.4.4)\n",
      "Collecting varname\n",
      "  Downloading varname-0.10.0-py3-none-any.whl (22 kB)\n"
     ]
    },
    {
     "name": "stderr",
     "output_type": "stream",
     "text": [
      "ERROR: Could not find a version that satisfies the requirement torch==1.4 (from versions: 1.7.1, 1.8.0, 1.8.1, 1.9.0, 1.9.1, 1.10.0, 1.10.1, 1.10.2, 1.11.0, 1.12.0, 1.12.1, 1.13.0, 1.13.1)\n",
      "ERROR: No matching distribution found for torch==1.4\n"
     ]
    },
    {
     "name": "stdout",
     "output_type": "stream",
     "text": [
      "Collecting bs4\n",
      "  Downloading bs4-0.0.1.tar.gz (1.1 kB)\n",
      "  Preparing metadata (setup.py): started\n",
      "  Preparing metadata (setup.py): finished with status 'done'\n",
      "Collecting kss>=3.2.0\n",
      "  Downloading kss-4.4.0.tar.gz (73 kB)\n",
      "     ---------------------------------------- 73.8/73.8 kB ? eta 0:00:00\n",
      "  Preparing metadata (setup.py): started\n",
      "  Preparing metadata (setup.py): finished with status 'done'\n",
      "Collecting python-mecab-ko\n",
      "  Downloading python_mecab_ko-1.3.3-cp39-cp39-win_amd64.whl (810 kB)\n",
      "     ------------------------------------- 810.6/810.6 kB 25.8 MB/s eta 0:00:00\n",
      "Requirement already satisfied: beautifulsoup4 in c:\\users\\isy51\\anaconda3\\lib\\site-packages (from bs4->-r ../requirements_prepro.txt (line 1)) (4.11.1)\n",
      "Collecting emoji==1.2.0\n",
      "  Downloading emoji-1.2.0-py3-none-any.whl (131 kB)\n",
      "     ---------------------------------------- 131.3/131.3 kB ? eta 0:00:00\n",
      "Requirement already satisfied: regex in c:\\users\\isy51\\anaconda3\\lib\\site-packages (from kss>=3.2.0->-r ../requirements_prepro.txt (line 2)) (2022.7.9)\n",
      "Collecting pecab\n",
      "  Downloading pecab-1.0.8.tar.gz (26.4 MB)\n",
      "     --------------------------------------- 26.4/26.4 MB 46.7 MB/s eta 0:00:00\n",
      "  Preparing metadata (setup.py): started\n",
      "  Preparing metadata (setup.py): finished with status 'done'\n",
      "Requirement already satisfied: networkx in c:\\users\\isy51\\anaconda3\\lib\\site-packages (from kss>=3.2.0->-r ../requirements_prepro.txt (line 2)) (2.8.4)\n",
      "Collecting python-mecab-ko-dic\n",
      "  Downloading python_mecab_ko_dic-2.1.1.post2-py3-none-any.whl (34.5 MB)\n",
      "     --------------------------------------- 34.5/34.5 MB 40.9 MB/s eta 0:00:00\n",
      "Requirement already satisfied: soupsieve>1.2 in c:\\users\\isy51\\anaconda3\\lib\\site-packages (from beautifulsoup4->bs4->-r ../requirements_prepro.txt (line 1)) (2.3.1)\n",
      "Requirement already satisfied: numpy in c:\\users\\isy51\\anaconda3\\lib\\site-packages (from pecab->kss>=3.2.0->-r ../requirements_prepro.txt (line 2)) (1.21.5)\n",
      "Collecting pyarrow\n",
      "  Downloading pyarrow-10.0.1-cp39-cp39-win_amd64.whl (20.3 MB)\n",
      "     --------------------------------------- 20.3/20.3 MB 46.7 MB/s eta 0:00:00\n",
      "Requirement already satisfied: pytest in c:\\users\\isy51\\anaconda3\\lib\\site-packages (from pecab->kss>=3.2.0->-r ../requirements_prepro.txt (line 2)) (7.1.2)\n",
      "Requirement already satisfied: attrs>=19.2.0 in c:\\users\\isy51\\anaconda3\\lib\\site-packages (from pytest->pecab->kss>=3.2.0->-r ../requirements_prepro.txt (line 2)) (21.4.0)\n",
      "Requirement already satisfied: iniconfig in c:\\users\\isy51\\anaconda3\\lib\\site-packages (from pytest->pecab->kss>=3.2.0->-r ../requirements_prepro.txt (line 2)) (1.1.1)\n",
      "Requirement already satisfied: packaging in c:\\users\\isy51\\anaconda3\\lib\\site-packages (from pytest->pecab->kss>=3.2.0->-r ../requirements_prepro.txt (line 2)) (21.3)\n",
      "Requirement already satisfied: pluggy<2.0,>=0.12 in c:\\users\\isy51\\anaconda3\\lib\\site-packages (from pytest->pecab->kss>=3.2.0->-r ../requirements_prepro.txt (line 2)) (1.0.0)\n",
      "Requirement already satisfied: py>=1.8.2 in c:\\users\\isy51\\anaconda3\\lib\\site-packages (from pytest->pecab->kss>=3.2.0->-r ../requirements_prepro.txt (line 2)) (1.11.0)\n",
      "Requirement already satisfied: tomli>=1.0.0 in c:\\users\\isy51\\anaconda3\\lib\\site-packages (from pytest->pecab->kss>=3.2.0->-r ../requirements_prepro.txt (line 2)) (2.0.1)\n",
      "Requirement already satisfied: atomicwrites>=1.0 in c:\\users\\isy51\\anaconda3\\lib\\site-packages (from pytest->pecab->kss>=3.2.0->-r ../requirements_prepro.txt (line 2)) (1.4.0)\n",
      "Requirement already satisfied: colorama in c:\\users\\isy51\\anaconda3\\lib\\site-packages (from pytest->pecab->kss>=3.2.0->-r ../requirements_prepro.txt (line 2)) (0.4.5)\n",
      "Requirement already satisfied: pyparsing!=3.0.5,>=2.0.2 in c:\\users\\isy51\\anaconda3\\lib\\site-packages (from packaging->pytest->pecab->kss>=3.2.0->-r ../requirements_prepro.txt (line 2)) (3.0.9)\n",
      "Building wheels for collected packages: bs4, kss, pecab\n",
      "  Building wheel for bs4 (setup.py): started\n",
      "  Building wheel for bs4 (setup.py): finished with status 'done'\n",
      "  Created wheel for bs4: filename=bs4-0.0.1-py3-none-any.whl size=1257 sha256=9f852ef15caba7bb08624d7a464ada7cf51fc44dc60f9cdee4bfbdfce37603f2\n",
      "  Stored in directory: c:\\users\\isy51\\appdata\\local\\pip\\cache\\wheels\\73\\2b\\cb\\099980278a0c9a3e57ff1a89875ec07bfa0b6fcbebb9a8cad3\n",
      "  Building wheel for kss (setup.py): started\n",
      "  Building wheel for kss (setup.py): finished with status 'done'\n",
      "  Created wheel for kss: filename=kss-4.4.0-py3-none-any.whl size=50762 sha256=7776e818716084c6583a6653b16f3ef575773df548e44d12da75153097557bbb\n",
      "  Stored in directory: c:\\users\\isy51\\appdata\\local\\pip\\cache\\wheels\\95\\9b\\68\\ff302a7dc684e8914b76ebf82aed4b46789d6a7a018fc05612\n",
      "  Building wheel for pecab (setup.py): started\n",
      "  Building wheel for pecab (setup.py): finished with status 'done'\n",
      "  Created wheel for pecab: filename=pecab-1.0.8-py3-none-any.whl size=26646664 sha256=860734fa7ca020a29a43f3b95cda1cb8615ab2870e0b9b36b4c2a48abf3fd9aa\n",
      "  Stored in directory: c:\\users\\isy51\\appdata\\local\\pip\\cache\\wheels\\5c\\91\\bf\\14eed6eafd0a83f76eab5cf8eb50ddc0b037f059eec2bd2e4a\n",
      "Successfully built bs4 kss pecab\n",
      "Installing collected packages: python-mecab-ko-dic, emoji, python-mecab-ko, pyarrow, bs4, pecab, kss\n",
      "Successfully installed bs4-0.0.1 emoji-1.2.0 kss-4.4.0 pecab-1.0.8 pyarrow-10.0.1 python-mecab-ko-1.3.3 python-mecab-ko-dic-2.1.1.post2\n"
     ]
    }
   ],
   "source": [
    "!pip install -r ../requirements.txt\n",
    "!pip install -r ../requirements_prepro.txt"
   ]
  },
  {
   "cell_type": "code",
   "execution_count": 1,
   "metadata": {},
   "outputs": [],
   "source": [
    "%load_ext autoreload\n",
    "%autoreload"
   ]
  },
  {
   "cell_type": "code",
   "execution_count": 1,
   "metadata": {},
   "outputs": [
    {
     "name": "stdout",
     "output_type": "stream",
     "text": [
      "/home/link/Project/KoBertSum\n"
     ]
    }
   ],
   "source": [
    "import os\n",
    "import sys\n",
    "import json\n",
    "from glob import glob\n",
    "import pickle\n",
    "from typing import Collection\n",
    "\n",
    "import pandas as pd\n",
    "import numpy as np\n",
    "from tqdm import tqdm\n",
    "\n",
    "tqdm.pandas()\n",
    "\n",
    "PROJECT_DIR = os.path.abspath(\"..\")\n",
    "print(PROJECT_DIR)\n",
    "sys.path.append(PROJECT_DIR + \"/src\")"
   ]
  },
  {
   "cell_type": "code",
   "execution_count": 2,
   "metadata": {},
   "outputs": [
    {
     "name": "stdout",
     "output_type": "stream",
     "text": [
      "/home/link/Project/KoBertSum/src\n"
     ]
    }
   ],
   "source": [
    "# 아래는 한 번만 실행하기\n",
    "os.chdir(os.path.abspath(PROJECT_DIR + \"/src\"))\n",
    "print(os.getcwd())"
   ]
  },
  {
   "cell_type": "markdown",
   "metadata": {
    "id": "QBiPYNcXfad-"
   },
   "source": [
    "## Preprocessing"
   ]
  },
  {
   "cell_type": "code",
   "execution_count": 4,
   "metadata": {},
   "outputs": [],
   "source": [
    "# !pip install -r requirements_prepro.txt"
   ]
  },
  {
   "cell_type": "markdown",
   "metadata": {
    "id": "cTd5TCazL_rO"
   },
   "source": [
    "### Import data as dataframe and export as pkl"
   ]
  },
  {
   "cell_type": "code",
   "execution_count": 6,
   "metadata": {},
   "outputs": [],
   "source": [
    "from prepro.utils import load_obj, save_obj"
   ]
  },
  {
   "cell_type": "code",
   "execution_count": 7,
   "metadata": {},
   "outputs": [
    {
     "name": "stdout",
     "output_type": "stream",
     "text": [
      "Loaded from /home/link/Project/KoBertSum/datasets/sample/sample_train.jsonl\n",
      "Loaded from /home/link/Project/KoBertSum/datasets/sample/sample_test.jsonl\n"
     ]
    },
    {
     "data": {
      "text/plain": [
       "{'text': ['당진시 문화관광과를 대상으로 하는 행정사무감사에서 당진시립합창단 관계자가 보낸 것으로 추정되는 문자와 관련해 당진시의회가 행정사무조사특별위원회를 구성해 조사하겠다고 밝혔다.',\n",
       "  '당진시의회 행정사무감사 3일차였던 지난 6일 문화관광과를 대상으로 하는 행감에서 최창용 의원은 “(당진시립합창단 정기연주회를 앞두고) 문자메세지를 제보받았다”며 “(음향팀에 보낸 것으로 추정되는) 해당 문자에는 ‘합창단이 소리를 작게 낼 것이니 알고 있으라’는 내용이었다”고 말했다.',\n",
       "  '이어 “공연에서 소리를 작게 낸다는 것은 합창단으로서 그 임무를 하지 않겠다는 것”이며 “공연 자체를 무력화해 당진시를 망신 주려는 행위”라며 해당 문자를 보낸 단원 등 연루된 사람들을 찾아 사실관계를 확인하고 징계 등 책임을 물어야 한다고 지적했다.',\n",
       "  '문제의 문자메세지를 전달받은 문화관광과는 감사법무담당관에게 조사를 의뢰했다.',\n",
       "  '권경선 문화관광과장은 “누가, 어떻게 해서 해당 문자가 나온 것인지 정확히 조사해봐야 알 수 있다”며 “전달받은 문자 내용도 최 의원이 언급한 부분만 있어, 중간 내용만을 가지고는 전체를 유추할 수 없다”고 전했다.',\n",
       "  '하지만 감사법무담당관실에서 아직 조사가 이뤄지지 않고 있어 당진시가 사태의 심각성을 인지하지 못하고 있다는 지적이다.',\n",
       "  '그동안 행정사무감사가 진행되고 있어 사태를 지켜봤다던 감사법무담당관실에서는 “관계된 사람들을 조사해 사태를 파악해야 하는데, 아직 조사에 대한 뚜렷한 계획이 없다”고 답했다.',\n",
       "  '한편 행감이 끝난 지난 12일 당진시의회에서는 당진시립합창단 문제를 비롯해 구체적인 조사가 필요한 부분에 대해 행정사무조사특별위원회를 구성해 운영하겠다고 밝혔다.',\n",
       "  '김기재 의장은 “본회의 의결과 제적의원 1/3의 발의가 있으면 행정사무조사특별위원회를 구성할 수 있다”며 “다음 달 초 위원들과 상의해 위원회를 구성한다면 당진시립합창단 관련 사안을 비롯해 사회복지기관 위수탁 등에 대해 다룰 계획”이라고 말했다.'],\n",
       " 'summary': \"지난 6일 당진시의회 행정사무감사에서 '합창단이 소리를 작게 낼 것이니 알고 있으라'라는 문자 등으로 불거진 합창단의 의무 불이행 논란에 대해 행정사무조사특별위원회를 구성해 조사를 수행하겠다는 의견을 표명했다.\"}"
      ]
     },
     "execution_count": 7,
     "metadata": {},
     "output_type": "execute_result"
    }
   ],
   "source": [
    "# Load jsonl file\n",
    "train_data = load_obj(PROJECT_DIR + \"/datasets/sample/sample_train.jsonl\")\n",
    "test_data = load_obj(PROJECT_DIR + \"/datasets/sample/sample_test.jsonl\")\n",
    "train_data[0]"
   ]
  },
  {
   "cell_type": "code",
   "execution_count": 8,
   "metadata": {},
   "outputs": [
    {
     "data": {
      "text/html": [
       "<div>\n",
       "<style scoped>\n",
       "    .dataframe tbody tr th:only-of-type {\n",
       "        vertical-align: middle;\n",
       "    }\n",
       "\n",
       "    .dataframe tbody tr th {\n",
       "        vertical-align: top;\n",
       "    }\n",
       "\n",
       "    .dataframe thead th {\n",
       "        text-align: right;\n",
       "    }\n",
       "</style>\n",
       "<table border=\"1\" class=\"dataframe\">\n",
       "  <thead>\n",
       "    <tr style=\"text-align: right;\">\n",
       "      <th></th>\n",
       "      <th>text</th>\n",
       "      <th>summary</th>\n",
       "    </tr>\n",
       "  </thead>\n",
       "  <tbody>\n",
       "    <tr>\n",
       "      <th>0</th>\n",
       "      <td>[당진시 문화관광과를 대상으로 하는 행정사무감사에서 당진시립합창단 관계자가 보낸 것...</td>\n",
       "      <td>지난 6일 당진시의회 행정사무감사에서 '합창단이 소리를 작게 낼 것이니 알고 있으라...</td>\n",
       "    </tr>\n",
       "    <tr>\n",
       "      <th>1</th>\n",
       "      <td>[미국 메이저리그(MLB)에서 활동하는 한국 선수들의 시즌 초반 희비가 엇갈리고 있...</td>\n",
       "      <td>LA 에인절스의 최지만이 맹활약을 하여 시즌 타율 0.250에서 0.313으로 올리...</td>\n",
       "    </tr>\n",
       "    <tr>\n",
       "      <th>2</th>\n",
       "      <td>[당진시 문화관광과를 대상으로 하는 행정사무감사에서 당진시립합창단 관계자가 보낸 것...</td>\n",
       "      <td>지난 6일 당진시의회 행정사무감사에서 '합창단이 소리를 작게 낼 것이니 알고 있으라...</td>\n",
       "    </tr>\n",
       "    <tr>\n",
       "      <th>3</th>\n",
       "      <td>[미국 메이저리그(MLB)에서 활동하는 한국 선수들의 시즌 초반 희비가 엇갈리고 있...</td>\n",
       "      <td>LA 에인절스의 최지만이 맹활약을 하여 시즌 타율 0.250에서 0.313으로 올리...</td>\n",
       "    </tr>\n",
       "    <tr>\n",
       "      <th>4</th>\n",
       "      <td>[당진시 문화관광과를 대상으로 하는 행정사무감사에서 당진시립합창단 관계자가 보낸 것...</td>\n",
       "      <td>지난 6일 당진시의회 행정사무감사에서 '합창단이 소리를 작게 낼 것이니 알고 있으라...</td>\n",
       "    </tr>\n",
       "  </tbody>\n",
       "</table>\n",
       "</div>"
      ],
      "text/plain": [
       "                                                text  \\\n",
       "0  [당진시 문화관광과를 대상으로 하는 행정사무감사에서 당진시립합창단 관계자가 보낸 것...   \n",
       "1  [미국 메이저리그(MLB)에서 활동하는 한국 선수들의 시즌 초반 희비가 엇갈리고 있...   \n",
       "2  [당진시 문화관광과를 대상으로 하는 행정사무감사에서 당진시립합창단 관계자가 보낸 것...   \n",
       "3  [미국 메이저리그(MLB)에서 활동하는 한국 선수들의 시즌 초반 희비가 엇갈리고 있...   \n",
       "4  [당진시 문화관광과를 대상으로 하는 행정사무감사에서 당진시립합창단 관계자가 보낸 것...   \n",
       "\n",
       "                                             summary  \n",
       "0  지난 6일 당진시의회 행정사무감사에서 '합창단이 소리를 작게 낼 것이니 알고 있으라...  \n",
       "1  LA 에인절스의 최지만이 맹활약을 하여 시즌 타율 0.250에서 0.313으로 올리...  \n",
       "2  지난 6일 당진시의회 행정사무감사에서 '합창단이 소리를 작게 낼 것이니 알고 있으라...  \n",
       "3  LA 에인절스의 최지만이 맹활약을 하여 시즌 타율 0.250에서 0.313으로 올리...  \n",
       "4  지난 6일 당진시의회 행정사무감사에서 '합창단이 소리를 작게 낼 것이니 알고 있으라...  "
      ]
     },
     "execution_count": 8,
     "metadata": {},
     "output_type": "execute_result"
    }
   ],
   "source": [
    "# Convert jsonl to df\n",
    "train_df = pd.DataFrame(train_data)\n",
    "test_df = pd.DataFrame(test_data)\n",
    "train_df.head()"
   ]
  },
  {
   "cell_type": "code",
   "execution_count": 9,
   "metadata": {},
   "outputs": [],
   "source": [
    " # random split\n",
    "df = train_df.copy()\n",
    "train_df = df.sample(frac=0.9, random_state=42)  # random state is a seed value\n",
    "valid_df = df.drop(train_df.index)\n",
    "train_df.reset_index(inplace=True, drop=True)\n",
    "valid_df.reset_index(inplace=True, drop=True)\n",
    "valid_df"
   ]
  },
  {
   "cell_type": "code",
   "execution_count": 11,
   "metadata": {},
   "outputs": [],
   "source": [
    "train_df.to_pickle(PROJECT_DIR + \"/datasets/sample/df/train_df.pkl\")\n",
    "valid_df.to_pickle(PROJECT_DIR + \"/datasets/sample/df/valid_df.pkl\")\n",
    "test_df.to_pickle(PROJECT_DIR + \"/datasets/sample/df/test_df.pkl\")"
   ]
  },
  {
   "cell_type": "markdown",
   "metadata": {},
   "source": [
    "### df to Bert data"
   ]
  },
  {
   "cell_type": "code",
   "execution_count": 30,
   "metadata": {},
   "outputs": [
    {
     "name": "stdout",
     "output_type": "stream",
     "text": [
      "/home/link/miniconda3/envs/kobertsum/lib/python3.8/site-packages/hydra/_internal/defaults_list.py:251: UserWarning: In 'config': Defaults list is missing `_self_`. See https://hydra.cc/docs/upgrades/1.0_to_1.1/default_composition_order for more information\n",
      "  warnings.warn(msg, UserWarning)\n",
      "/home/link/Project/KoBertSum/datasets/sample\n",
      "['df/test_df.pkl', 'df/valid_df.pkl', 'df/train_df.pkl']\n",
      "[2021-10-04 07:46:38,027 INFO] json folder is removed\n",
      "[2021-10-04 07:46:38,027 INFO] json folder is made\n",
      "[2021-10-04 07:46:38,031 INFO] bert folder is removed\n",
      "[2021-10-04 07:46:38,031 INFO] bert folder is made\n",
      "[2021-10-04 07:46:38,031 INFO] Start 'df_to_bert' processing for df/test_df.pkl\n",
      "[2021-10-04 07:46:38,032 INFO] Cleaning...\n",
      "100%|████████████████████████████████████████████| 2/2 [00:00<00:00, 387.55it/s]\n",
      "[2021-10-04 07:46:38,038 INFO] Sent split...\n",
      "100%|███████████████████████████████████████████| 1/1 [00:00<00:00, 1158.33it/s]\n",
      "[2021-10-04 07:46:38,040 INFO] bert/test folder is made\n",
      "[('test', 'json/test.0_1.json', Namespace(dataset='test', lower=True, map_path='../../data/', max_src_nsents=120, max_src_ntokens_per_sent=300, max_tgt_ntokens=600, min_src_nsents=3, min_src_ntokens_per_sent=5, min_tgt_ntokens=5, mode='format_to_bert', model_name='kykim/bert-kor-base', n_cpus=28, pretrained_model='bert', raw_path='json', save_path='bert', select_mode='greedy', shard_size=2000, tgt_type='str', use_bert_basic_tokenizer=False), 'bert/test.0_1.bert.pt')]\n",
      "[2021-10-04 07:46:43,130 INFO] Start 'df_to_bert' processing for df/valid_df.pkl\n",
      "[2021-10-04 07:46:43,131 INFO] Cleaning...\n",
      "100%|████████████████████████████████████████████| 1/1 [00:00<00:00, 541.48it/s]\n",
      "[2021-10-04 07:46:43,135 INFO] Sent split...\n",
      "[2021-10-04 07:46:43,162 WARNING] Initializing Kss...\n",
      "100%|███████████████████████████████████████████| 1/1 [00:00<00:00, 1891.03it/s]\n",
      "[2021-10-04 07:46:50,822 INFO] bert/valid folder is made\n",
      "[('valid', 'json/valid.0_0.json', Namespace(dataset='valid', lower=True, map_path='../../data/', max_src_nsents=120, max_src_ntokens_per_sent=300, max_tgt_ntokens=600, min_src_nsents=3, min_src_ntokens_per_sent=5, min_tgt_ntokens=5, mode='format_to_bert', model_name='kykim/bert-kor-base', n_cpus=28, pretrained_model='bert', raw_path='json', save_path='bert', select_mode='greedy', shard_size=2000, tgt_type='str', use_bert_basic_tokenizer=False), 'bert/valid.0_0.bert.pt')]\n",
      "[2021-10-04 07:46:56,020 INFO] Start 'df_to_bert' processing for df/train_df.pkl\n",
      "[2021-10-04 07:46:56,022 INFO] Cleaning...\n",
      "100%|████████████████████████████████████████████| 9/9 [00:00<00:00, 487.42it/s]\n",
      "[2021-10-04 07:46:56,042 INFO] Sent split...\n",
      "100%|████████████████████████████████████████████| 1/1 [00:00<00:00, 352.55it/s]\n",
      "[2021-10-04 07:46:57,110 INFO] bert/train folder is made\n",
      "[('train', 'json/train.0_8.json', Namespace(dataset='train', lower=True, map_path='../../data/', max_src_nsents=120, max_src_ntokens_per_sent=300, max_tgt_ntokens=600, min_src_nsents=3, min_src_ntokens_per_sent=5, min_tgt_ntokens=5, mode='format_to_bert', model_name='kykim/bert-kor-base', n_cpus=28, pretrained_model='bert', raw_path='json', save_path='bert', select_mode='greedy', shard_size=2000, tgt_type='str', use_bert_basic_tokenizer=False), 'bert/train.0_8.bert.pt')]\n"
     ]
    }
   ],
   "source": [
    "# in src folder... run below code\n",
    "!python make_data.py \\\n",
    "  dataset=sample \\\n",
    "  dataset.text.name=text dataset.text.type=str_list dataset.text.do_cleaning=True \\\n",
    "  dataset.summary.name=summary dataset.summary.type=str \\\n",
    "  dataset.is_informal=False \\\n",
    "  model_name=\"kykim/bert-kor-base\" n_cpus=28\n",
    "  \n",
    "# Above code is same with below, because of \n",
    "# conf/make_data/config.yaml and conf/make_data/dataset/sample.yaml\n",
    "# !python make_data.py dataset=sample"
   ]
  }
 ],
 "metadata": {
  "colab": {
   "collapsed_sections": [],
   "name": "PreSumm_preprocessing",
   "provenance": [],
   "toc_visible": true
  },
  "interpreter": {
   "hash": "0225bfe348f7edb7bd33f87bfedb9902eeab1a18a4de35e3790c58e60b052226"
  },
  "kernelspec": {
   "display_name": "Python 3 (ipykernel)",
   "language": "python",
   "name": "python3"
  },
  "language_info": {
   "codemirror_mode": {
    "name": "ipython",
    "version": 3
   },
   "file_extension": ".py",
   "mimetype": "text/x-python",
   "name": "python",
   "nbconvert_exporter": "python",
   "pygments_lexer": "ipython3",
   "version": "3.9.13"
  },
  "toc": {
   "base_numbering": 1,
   "nav_menu": {},
   "number_sections": true,
   "sideBar": true,
   "skip_h1_title": false,
   "title_cell": "Table of Contents",
   "title_sidebar": "Contents",
   "toc_cell": false,
   "toc_position": {
    "height": "calc(100% - 180px)",
    "left": "10px",
    "top": "150px",
    "width": "202px"
   },
   "toc_section_display": true,
   "toc_window_display": true
  },
  "varInspector": {
   "cols": {
    "lenName": 16,
    "lenType": 16,
    "lenVar": 40
   },
   "kernels_config": {
    "python": {
     "delete_cmd_postfix": "",
     "delete_cmd_prefix": "del ",
     "library": "var_list.py",
     "varRefreshCmd": "print(var_dic_list())"
    },
    "r": {
     "delete_cmd_postfix": ") ",
     "delete_cmd_prefix": "rm(",
     "library": "var_list.r",
     "varRefreshCmd": "cat(var_dic_list()) "
    }
   },
   "types_to_exclude": [
    "module",
    "function",
    "builtin_function_or_method",
    "instance",
    "_Feature"
   ],
   "window_display": false
  },
  "widgets": {
   "application/vnd.jupyter.widget-state+json": {
    "0f4b0508a7f04373a6fc02836cb396b1": {
     "model_module": "@jupyter-widgets/base",
     "model_name": "LayoutModel",
     "state": {
      "_model_module": "@jupyter-widgets/base",
      "_model_module_version": "1.2.0",
      "_model_name": "LayoutModel",
      "_view_count": null,
      "_view_module": "@jupyter-widgets/base",
      "_view_module_version": "1.2.0",
      "_view_name": "LayoutView",
      "align_content": null,
      "align_items": null,
      "align_self": null,
      "border": null,
      "bottom": null,
      "display": null,
      "flex": null,
      "flex_flow": null,
      "grid_area": null,
      "grid_auto_columns": null,
      "grid_auto_flow": null,
      "grid_auto_rows": null,
      "grid_column": null,
      "grid_gap": null,
      "grid_row": null,
      "grid_template_areas": null,
      "grid_template_columns": null,
      "grid_template_rows": null,
      "height": null,
      "justify_content": null,
      "justify_items": null,
      "left": null,
      "margin": null,
      "max_height": null,
      "max_width": null,
      "min_height": null,
      "min_width": null,
      "object_fit": null,
      "object_position": null,
      "order": null,
      "overflow": null,
      "overflow_x": null,
      "overflow_y": null,
      "padding": null,
      "right": null,
      "top": null,
      "visibility": null,
      "width": null
     }
    },
    "0fe3e903b7444103b7b4c898f180a726": {
     "model_module": "@jupyter-widgets/controls",
     "model_name": "FloatProgressModel",
     "state": {
      "_dom_classes": [],
      "_model_module": "@jupyter-widgets/controls",
      "_model_module_version": "1.5.0",
      "_model_name": "FloatProgressModel",
      "_view_count": null,
      "_view_module": "@jupyter-widgets/controls",
      "_view_module_version": "1.5.0",
      "_view_name": "ProgressView",
      "bar_style": "success",
      "description": "100%",
      "description_tooltip": null,
      "layout": "IPY_MODEL_2808901963654f7a83e5aedc1f65499d",
      "max": 100,
      "min": 0,
      "orientation": "horizontal",
      "style": "IPY_MODEL_8ad27d74b7ad445c8275f75cb03b2865",
      "value": 100
     }
    },
    "2808901963654f7a83e5aedc1f65499d": {
     "model_module": "@jupyter-widgets/base",
     "model_name": "LayoutModel",
     "state": {
      "_model_module": "@jupyter-widgets/base",
      "_model_module_version": "1.2.0",
      "_model_name": "LayoutModel",
      "_view_count": null,
      "_view_module": "@jupyter-widgets/base",
      "_view_module_version": "1.2.0",
      "_view_name": "LayoutView",
      "align_content": null,
      "align_items": null,
      "align_self": null,
      "border": null,
      "bottom": null,
      "display": null,
      "flex": null,
      "flex_flow": null,
      "grid_area": null,
      "grid_auto_columns": null,
      "grid_auto_flow": null,
      "grid_auto_rows": null,
      "grid_column": null,
      "grid_gap": null,
      "grid_row": null,
      "grid_template_areas": null,
      "grid_template_columns": null,
      "grid_template_rows": null,
      "height": null,
      "justify_content": null,
      "justify_items": null,
      "left": null,
      "margin": null,
      "max_height": null,
      "max_width": null,
      "min_height": null,
      "min_width": null,
      "object_fit": null,
      "object_position": null,
      "order": null,
      "overflow": null,
      "overflow_x": null,
      "overflow_y": null,
      "padding": null,
      "right": null,
      "top": null,
      "visibility": null,
      "width": null
     }
    },
    "2ff30341ad134b14943208129dbed0c9": {
     "model_module": "@jupyter-widgets/controls",
     "model_name": "DescriptionStyleModel",
     "state": {
      "_model_module": "@jupyter-widgets/controls",
      "_model_module_version": "1.5.0",
      "_model_name": "DescriptionStyleModel",
      "_view_count": null,
      "_view_module": "@jupyter-widgets/base",
      "_view_module_version": "1.2.0",
      "_view_name": "StyleView",
      "description_width": ""
     }
    },
    "3c7af6bcc9a84f1aa55262ad8648ec11": {
     "model_module": "@jupyter-widgets/controls",
     "model_name": "HTMLModel",
     "state": {
      "_dom_classes": [],
      "_model_module": "@jupyter-widgets/controls",
      "_model_module_version": "1.5.0",
      "_model_name": "HTMLModel",
      "_view_count": null,
      "_view_module": "@jupyter-widgets/controls",
      "_view_module_version": "1.5.0",
      "_view_name": "HTMLView",
      "description": "",
      "description_tooltip": null,
      "layout": "IPY_MODEL_0f4b0508a7f04373a6fc02836cb396b1",
      "placeholder": "​",
      "style": "IPY_MODEL_e122e8a746d54136984a75cafef002b4",
      "value": " 31/43 [09:10&lt;03:24, 17.04s/it]"
     }
    },
    "558af5b7265d48049c8479606d5d6e18": {
     "model_module": "@jupyter-widgets/controls",
     "model_name": "HBoxModel",
     "state": {
      "_dom_classes": [],
      "_model_module": "@jupyter-widgets/controls",
      "_model_module_version": "1.5.0",
      "_model_name": "HBoxModel",
      "_view_count": null,
      "_view_module": "@jupyter-widgets/controls",
      "_view_module_version": "1.5.0",
      "_view_name": "HBoxView",
      "box_style": "",
      "children": [
       "IPY_MODEL_0fe3e903b7444103b7b4c898f180a726",
       "IPY_MODEL_68ca9c976bfc4ed89da032cc05b09d88"
      ],
      "layout": "IPY_MODEL_eb5964b1f732474695afe69bf3a76005"
     }
    },
    "625c3207c3cd4bfdb026e843fe9cc96d": {
     "model_module": "@jupyter-widgets/base",
     "model_name": "LayoutModel",
     "state": {
      "_model_module": "@jupyter-widgets/base",
      "_model_module_version": "1.2.0",
      "_model_name": "LayoutModel",
      "_view_count": null,
      "_view_module": "@jupyter-widgets/base",
      "_view_module_version": "1.2.0",
      "_view_name": "LayoutView",
      "align_content": null,
      "align_items": null,
      "align_self": null,
      "border": null,
      "bottom": null,
      "display": null,
      "flex": null,
      "flex_flow": null,
      "grid_area": null,
      "grid_auto_columns": null,
      "grid_auto_flow": null,
      "grid_auto_rows": null,
      "grid_column": null,
      "grid_gap": null,
      "grid_row": null,
      "grid_template_areas": null,
      "grid_template_columns": null,
      "grid_template_rows": null,
      "height": null,
      "justify_content": null,
      "justify_items": null,
      "left": null,
      "margin": null,
      "max_height": null,
      "max_width": null,
      "min_height": null,
      "min_width": null,
      "object_fit": null,
      "object_position": null,
      "order": null,
      "overflow": null,
      "overflow_x": null,
      "overflow_y": null,
      "padding": null,
      "right": null,
      "top": null,
      "visibility": null,
      "width": null
     }
    },
    "6450ca5bbc474c30843e979beddd99ae": {
     "model_module": "@jupyter-widgets/controls",
     "model_name": "FloatProgressModel",
     "state": {
      "_dom_classes": [],
      "_model_module": "@jupyter-widgets/controls",
      "_model_module_version": "1.5.0",
      "_model_name": "FloatProgressModel",
      "_view_count": null,
      "_view_module": "@jupyter-widgets/controls",
      "_view_module_version": "1.5.0",
      "_view_name": "ProgressView",
      "bar_style": "danger",
      "description": " 72%",
      "description_tooltip": null,
      "layout": "IPY_MODEL_e0daf47f80d440de843dfde7ea1d6325",
      "max": 43,
      "min": 0,
      "orientation": "horizontal",
      "style": "IPY_MODEL_b0a1c4408e9a470886a60804be82644d",
      "value": 31
     }
    },
    "68ca9c976bfc4ed89da032cc05b09d88": {
     "model_module": "@jupyter-widgets/controls",
     "model_name": "HTMLModel",
     "state": {
      "_dom_classes": [],
      "_model_module": "@jupyter-widgets/controls",
      "_model_module_version": "1.5.0",
      "_model_name": "HTMLModel",
      "_view_count": null,
      "_view_module": "@jupyter-widgets/controls",
      "_view_module_version": "1.5.0",
      "_view_name": "HTMLView",
      "description": "",
      "description_tooltip": null,
      "layout": "IPY_MODEL_625c3207c3cd4bfdb026e843fe9cc96d",
      "placeholder": "​",
      "style": "IPY_MODEL_2ff30341ad134b14943208129dbed0c9",
      "value": " 100/100 [2:26:29&lt;00:00, 87.90s/it]"
     }
    },
    "8ad27d74b7ad445c8275f75cb03b2865": {
     "model_module": "@jupyter-widgets/controls",
     "model_name": "ProgressStyleModel",
     "state": {
      "_model_module": "@jupyter-widgets/controls",
      "_model_module_version": "1.5.0",
      "_model_name": "ProgressStyleModel",
      "_view_count": null,
      "_view_module": "@jupyter-widgets/base",
      "_view_module_version": "1.2.0",
      "_view_name": "StyleView",
      "bar_color": null,
      "description_width": "initial"
     }
    },
    "a3013828eff34d23abf29d44882609de": {
     "model_module": "@jupyter-widgets/controls",
     "model_name": "HBoxModel",
     "state": {
      "_dom_classes": [],
      "_model_module": "@jupyter-widgets/controls",
      "_model_module_version": "1.5.0",
      "_model_name": "HBoxModel",
      "_view_count": null,
      "_view_module": "@jupyter-widgets/controls",
      "_view_module_version": "1.5.0",
      "_view_name": "HBoxView",
      "box_style": "",
      "children": [
       "IPY_MODEL_6450ca5bbc474c30843e979beddd99ae",
       "IPY_MODEL_3c7af6bcc9a84f1aa55262ad8648ec11"
      ],
      "layout": "IPY_MODEL_f0abbe8002c44bc9b91b514eb19cae34"
     }
    },
    "b0a1c4408e9a470886a60804be82644d": {
     "model_module": "@jupyter-widgets/controls",
     "model_name": "ProgressStyleModel",
     "state": {
      "_model_module": "@jupyter-widgets/controls",
      "_model_module_version": "1.5.0",
      "_model_name": "ProgressStyleModel",
      "_view_count": null,
      "_view_module": "@jupyter-widgets/base",
      "_view_module_version": "1.2.0",
      "_view_name": "StyleView",
      "bar_color": null,
      "description_width": "initial"
     }
    },
    "e0daf47f80d440de843dfde7ea1d6325": {
     "model_module": "@jupyter-widgets/base",
     "model_name": "LayoutModel",
     "state": {
      "_model_module": "@jupyter-widgets/base",
      "_model_module_version": "1.2.0",
      "_model_name": "LayoutModel",
      "_view_count": null,
      "_view_module": "@jupyter-widgets/base",
      "_view_module_version": "1.2.0",
      "_view_name": "LayoutView",
      "align_content": null,
      "align_items": null,
      "align_self": null,
      "border": null,
      "bottom": null,
      "display": null,
      "flex": null,
      "flex_flow": null,
      "grid_area": null,
      "grid_auto_columns": null,
      "grid_auto_flow": null,
      "grid_auto_rows": null,
      "grid_column": null,
      "grid_gap": null,
      "grid_row": null,
      "grid_template_areas": null,
      "grid_template_columns": null,
      "grid_template_rows": null,
      "height": null,
      "justify_content": null,
      "justify_items": null,
      "left": null,
      "margin": null,
      "max_height": null,
      "max_width": null,
      "min_height": null,
      "min_width": null,
      "object_fit": null,
      "object_position": null,
      "order": null,
      "overflow": null,
      "overflow_x": null,
      "overflow_y": null,
      "padding": null,
      "right": null,
      "top": null,
      "visibility": null,
      "width": null
     }
    },
    "e122e8a746d54136984a75cafef002b4": {
     "model_module": "@jupyter-widgets/controls",
     "model_name": "DescriptionStyleModel",
     "state": {
      "_model_module": "@jupyter-widgets/controls",
      "_model_module_version": "1.5.0",
      "_model_name": "DescriptionStyleModel",
      "_view_count": null,
      "_view_module": "@jupyter-widgets/base",
      "_view_module_version": "1.2.0",
      "_view_name": "StyleView",
      "description_width": ""
     }
    },
    "eb5964b1f732474695afe69bf3a76005": {
     "model_module": "@jupyter-widgets/base",
     "model_name": "LayoutModel",
     "state": {
      "_model_module": "@jupyter-widgets/base",
      "_model_module_version": "1.2.0",
      "_model_name": "LayoutModel",
      "_view_count": null,
      "_view_module": "@jupyter-widgets/base",
      "_view_module_version": "1.2.0",
      "_view_name": "LayoutView",
      "align_content": null,
      "align_items": null,
      "align_self": null,
      "border": null,
      "bottom": null,
      "display": null,
      "flex": null,
      "flex_flow": null,
      "grid_area": null,
      "grid_auto_columns": null,
      "grid_auto_flow": null,
      "grid_auto_rows": null,
      "grid_column": null,
      "grid_gap": null,
      "grid_row": null,
      "grid_template_areas": null,
      "grid_template_columns": null,
      "grid_template_rows": null,
      "height": null,
      "justify_content": null,
      "justify_items": null,
      "left": null,
      "margin": null,
      "max_height": null,
      "max_width": null,
      "min_height": null,
      "min_width": null,
      "object_fit": null,
      "object_position": null,
      "order": null,
      "overflow": null,
      "overflow_x": null,
      "overflow_y": null,
      "padding": null,
      "right": null,
      "top": null,
      "visibility": null,
      "width": null
     }
    },
    "f0abbe8002c44bc9b91b514eb19cae34": {
     "model_module": "@jupyter-widgets/base",
     "model_name": "LayoutModel",
     "state": {
      "_model_module": "@jupyter-widgets/base",
      "_model_module_version": "1.2.0",
      "_model_name": "LayoutModel",
      "_view_count": null,
      "_view_module": "@jupyter-widgets/base",
      "_view_module_version": "1.2.0",
      "_view_name": "LayoutView",
      "align_content": null,
      "align_items": null,
      "align_self": null,
      "border": null,
      "bottom": null,
      "display": null,
      "flex": null,
      "flex_flow": null,
      "grid_area": null,
      "grid_auto_columns": null,
      "grid_auto_flow": null,
      "grid_auto_rows": null,
      "grid_column": null,
      "grid_gap": null,
      "grid_row": null,
      "grid_template_areas": null,
      "grid_template_columns": null,
      "grid_template_rows": null,
      "height": null,
      "justify_content": null,
      "justify_items": null,
      "left": null,
      "margin": null,
      "max_height": null,
      "max_width": null,
      "min_height": null,
      "min_width": null,
      "object_fit": null,
      "object_position": null,
      "order": null,
      "overflow": null,
      "overflow_x": null,
      "overflow_y": null,
      "padding": null,
      "right": null,
      "top": null,
      "visibility": null,
      "width": null
     }
    }
   }
  }
 },
 "nbformat": 4,
 "nbformat_minor": 1
}
